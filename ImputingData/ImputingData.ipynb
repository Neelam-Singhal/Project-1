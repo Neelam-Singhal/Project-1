{
 "cells": [
  {
   "cell_type": "code",
   "execution_count": 1,
   "source": [
    "import pandas as pd\r\n",
    "import numpy as np\r\n",
    "import matplotlib.pyplot as plt\r\n",
    "import seaborn as sns\r\n",
    "\r\n",
    "# To plot QQ plot\r\n",
    "import statsmodels.api as sm\r\n",
    "\r\n",
    "import warnings\r\n",
    "warnings.filterwarnings('ignore')"
   ],
   "outputs": [],
   "metadata": {}
  },
  {
   "cell_type": "markdown",
   "source": [
    "## Preprocess the data"
   ],
   "metadata": {}
  },
  {
   "cell_type": "markdown",
   "source": [
    "# Prediction Generation"
   ],
   "metadata": {}
  },
  {
   "cell_type": "markdown",
   "source": [
    "1. input data\r\n",
    "2. Preprocess Data:\r\n",
    "    - Replace -1 with 0s\r\n",
    "2. Do something about NA - Create submodels to impute missing values (Random Forest)\r\n",
    "2. Fit the model\r\n",
    "3. Generate Predictions\r\n",
    "4. Generate Confidence Score\r\n"
   ],
   "metadata": {}
  },
  {
   "cell_type": "code",
   "execution_count": 197,
   "source": [
    "prediction_data_1 = pd.read_csv('v2_Inputs_for_Full_Predictions_1_cleaned.csv')"
   ],
   "outputs": [],
   "metadata": {}
  },
  {
   "cell_type": "code",
   "execution_count": 198,
   "source": [
    "prediction_data_1.shape"
   ],
   "outputs": [
    {
     "output_type": "execute_result",
     "data": {
      "text/plain": [
       "(2489558, 31)"
      ]
     },
     "metadata": {},
     "execution_count": 198
    }
   ],
   "metadata": {}
  },
  {
   "cell_type": "code",
   "execution_count": 199,
   "source": [
    "prediction_data_1.isna().sum()"
   ],
   "outputs": [
    {
     "output_type": "execute_result",
     "data": {
      "text/plain": [
       "Var_1                  0\n",
       "Var_2                  0\n",
       "Var_3                  0\n",
       "Var_4                  0\n",
       "Var_5_Class_1          0\n",
       "Var_5_Class_2          0\n",
       "Var_5_Class_3          0\n",
       "Var_5_Class_4          0\n",
       "Var_5_Class_5          0\n",
       "Var_5_Class_6          0\n",
       "Var_5_Class_7          0\n",
       "Var_5_Class_8          0\n",
       "Var_6_Class_1          0\n",
       "Var_6_Class_2          0\n",
       "Var_6_Class_3          0\n",
       "Var_6_Class_4          0\n",
       "Var_6_Class_5          0\n",
       "Var_6_Class_6          0\n",
       "Var_6_Class_7          0\n",
       "Var_6_Class_8          0\n",
       "Var_6_Class_9          0\n",
       "Var_6_Class_10         0\n",
       "Var_6_Class_11         0\n",
       "Var_6_Class_12         0\n",
       "Var_7                  0\n",
       "Var_8                  0\n",
       "Var_9                  0\n",
       "Var_10                 0\n",
       "Var_11            604664\n",
       "Var_12            295215\n",
       "Var_13                 0\n",
       "dtype: int64"
      ]
     },
     "metadata": {},
     "execution_count": 199
    }
   ],
   "metadata": {}
  },
  {
   "cell_type": "code",
   "execution_count": 200,
   "source": [
    "data_numeric = ['Var_1', 'Var_2', 'Var_3', 'Var_4', 'Var_7', 'Var_8', 'Var_11', 'Var_12', 'Var_13']"
   ],
   "outputs": [],
   "metadata": {}
  },
  {
   "cell_type": "code",
   "execution_count": 201,
   "source": [
    "# Function to idenfity skewness\r\n",
    "def data_skewness(df):\r\n",
    "    for i in data_numeric:\r\n",
    "        print(i, \":  \", df[i].skew())"
   ],
   "outputs": [],
   "metadata": {}
  },
  {
   "cell_type": "code",
   "execution_count": 202,
   "source": [
    "data_skewness(prediction_data_1)"
   ],
   "outputs": [
    {
     "output_type": "stream",
     "name": "stdout",
     "text": [
      "Var_1 :   3.9019749056127604\n",
      "Var_2 :   1.2858898594763082\n",
      "Var_3 :   18.706620448485587\n",
      "Var_4 :   -1.2845748252297844\n",
      "Var_7 :   40.15172939399318\n",
      "Var_8 :   10.27761779642971\n",
      "Var_11 :   0.29835446219290374\n",
      "Var_12 :   0.05928250706545684\n",
      "Var_13 :   -0.13667133273249232\n"
     ]
    }
   ],
   "metadata": {}
  },
  {
   "cell_type": "code",
   "execution_count": 203,
   "source": [
    "# Removing skewness. Taking root for positive skewed data and power for negatively skewed data\r\n",
    "prediction_data_1[\"Var_1\"] = np.sqrt(prediction_data_1[\"Var_1\"])\r\n",
    "prediction_data_1[\"Var_2\"] = np.sqrt(prediction_data_1[\"Var_2\"])\r\n",
    "prediction_data_1[\"Var_3\"] = np.cbrt(prediction_data_1[\"Var_3\"])\r\n",
    "prediction_data_1[\"Var_7\"] = np.cbrt(prediction_data_1[\"Var_7\"])\r\n",
    "prediction_data_1[\"Var_8\"] = np.cbrt(prediction_data_1[\"Var_8\"])\r\n",
    "prediction_data_1[\"Var_11\"] = np.power(prediction_data_1[\"Var_11\"], 5)\r\n",
    "#prediction_data_1[\"Var_4\"] = np.power(prediction_data_1[\"Var_4\"], 6)"
   ],
   "outputs": [],
   "metadata": {}
  },
  {
   "cell_type": "code",
   "execution_count": 204,
   "source": [
    "data_skewness(prediction_data_1)"
   ],
   "outputs": [
    {
     "output_type": "stream",
     "name": "stdout",
     "text": [
      "Var_1 :   0.49872883873460444\n",
      "Var_2 :   0.3576557463036899\n",
      "Var_3 :   0.9441237516931893\n",
      "Var_4 :   -1.2845748252297844\n",
      "Var_7 :   3.992715938235575\n",
      "Var_8 :   0.4007817435375751\n",
      "Var_11 :   1.8014263178267473\n",
      "Var_12 :   0.05928250706545684\n",
      "Var_13 :   -0.13667133273249232\n"
     ]
    }
   ],
   "metadata": {}
  },
  {
   "cell_type": "markdown",
   "source": [
    "## Imputing missing data - Var 11\r\n",
    "- Create model to predict data."
   ],
   "metadata": {}
  },
  {
   "cell_type": "code",
   "execution_count": 205,
   "source": [
    "len(prediction_data_1[prediction_data_1.Var_11.isna() & prediction_data_1.Var_12.isna()]), len(prediction_data_1[prediction_data_1.Var_11.isna()]), len(prediction_data_1[prediction_data_1.Var_12.isna()])"
   ],
   "outputs": [
    {
     "output_type": "execute_result",
     "data": {
      "text/plain": [
       "(295215, 604664, 295215)"
      ]
     },
     "metadata": {},
     "execution_count": 205
    }
   ],
   "metadata": {}
  },
  {
   "cell_type": "markdown",
   "source": [
    "We notied that whenever Var_12 is missing, Var_11 is also missing. We will 1st build a model to predict Var 11 and hold out Var 12. Then use final model to predict Var_12"
   ],
   "metadata": {}
  },
  {
   "cell_type": "code",
   "execution_count": 206,
   "source": [
    "#cols = prediction_data_1.columns\r\n",
    "cols = ['Var_1', 'Var_2', 'Var_3', 'Var_4', 'Var_5_Class_1', 'Var_5_Class_2',\r\n",
    "       'Var_5_Class_3', 'Var_5_Class_4', 'Var_5_Class_5', 'Var_5_Class_6',\r\n",
    "       'Var_5_Class_7', 'Var_5_Class_8', 'Var_6_Class_1', 'Var_6_Class_2',\r\n",
    "       'Var_6_Class_3', 'Var_6_Class_4', 'Var_6_Class_5', 'Var_6_Class_6',\r\n",
    "       'Var_6_Class_7', 'Var_6_Class_8', 'Var_6_Class_9', 'Var_6_Class_10',\r\n",
    "       'Var_6_Class_11', 'Var_6_Class_12', 'Var_7', 'Var_8', 'Var_9', 'Var_10','Var_11','Var_13']"
   ],
   "outputs": [],
   "metadata": {}
  },
  {
   "cell_type": "code",
   "execution_count": 207,
   "source": [
    "impute_independent_var = prediction_data_1[cols]"
   ],
   "outputs": [],
   "metadata": {}
  },
  {
   "cell_type": "code",
   "execution_count": 208,
   "source": [
    "impute_independent_var.drop(impute_independent_var[pd.isna(impute_independent_var.Var_11)].index, inplace=True)"
   ],
   "outputs": [],
   "metadata": {}
  },
  {
   "cell_type": "code",
   "execution_count": 209,
   "source": [
    "# Segregating data in independent and dependent variables\r\n",
    "\r\n",
    "X_impute = impute_independent_var.drop(['Var_11'], axis=1)\r\n",
    "y_impute = impute_independent_var['Var_11']"
   ],
   "outputs": [],
   "metadata": {}
  },
  {
   "cell_type": "code",
   "execution_count": 210,
   "source": [
    "from sklearn.model_selection import train_test_split\r\n",
    "\r\n",
    "train_X_impute, test_X_impute, train_y_impute, test_y_impute = train_test_split(X_impute, y_impute, random_state=122, stratify = y_impute)"
   ],
   "outputs": [],
   "metadata": {}
  },
  {
   "cell_type": "code",
   "execution_count": 211,
   "source": [
    "from sklearn.metrics import f1_score, accuracy_score\r\n",
    "from sklearn.model_selection import RepeatedStratifiedKFold\r\n",
    "from sklearn.model_selection import cross_val_score\r\n",
    "from numpy import mean"
   ],
   "outputs": [],
   "metadata": {}
  },
  {
   "cell_type": "code",
   "execution_count": 212,
   "source": [
    "from sklearn.ensemble import RandomForestRegressor\r\n",
    "\r\n",
    "var_11_model = RandomForestRegressor(n_estimators=10, random_state=12)"
   ],
   "outputs": [],
   "metadata": {}
  },
  {
   "cell_type": "code",
   "execution_count": 213,
   "source": [
    "# # define evaluation procedure\r\n",
    "# cv_impute = RepeatedStratifiedKFold(n_splits=10, n_repeats=3, random_state=1)\r\n",
    "# # evaluate model\r\n",
    "# scores_impute = cross_val_score(var_11_model, X_impute, y_impute, scoring='accuracy', cv=cv_impute, n_jobs=-1)\r\n",
    "# # summarize performance\r\n",
    "# print('Accuracy %.3f' % mean(scores_impute))"
   ],
   "outputs": [],
   "metadata": {}
  },
  {
   "cell_type": "code",
   "execution_count": 214,
   "source": [
    "var_11_model.fit(train_X_impute, train_y_impute)"
   ],
   "outputs": [
    {
     "output_type": "execute_result",
     "data": {
      "text/plain": [
       "RandomForestRegressor(n_estimators=10, random_state=12)"
      ]
     },
     "metadata": {},
     "execution_count": 214
    }
   ],
   "metadata": {}
  },
  {
   "cell_type": "code",
   "execution_count": 215,
   "source": [
    "impute_independent_var = pd.read_csv('v2_Inputs_for_Full_Predictions_1_cleaned.csv')"
   ],
   "outputs": [],
   "metadata": {}
  },
  {
   "cell_type": "code",
   "execution_count": 216,
   "source": [
    "X_impute = impute_independent_var.drop(['Var_11', 'Var_12'], axis=1)\r\n",
    "y_impute = impute_independent_var['Var_11']"
   ],
   "outputs": [],
   "metadata": {}
  },
  {
   "cell_type": "code",
   "execution_count": 217,
   "source": [
    "impute_independent_var['Val_11_predicte'] = var_11_model.predict(X_impute)"
   ],
   "outputs": [],
   "metadata": {}
  },
  {
   "cell_type": "code",
   "execution_count": 218,
   "source": [
    "impute_independent_var[impute_independent_var.Var_11.isnull()]"
   ],
   "outputs": [
    {
     "output_type": "execute_result",
     "data": {
      "text/plain": [
       "         Var_1      Var_2  Var_3      Var_4  Var_5_Class_1  Var_5_Class_2  \\\n",
       "22          10  34.628415      0 -18.128415              0              0   \n",
       "25           8  34.703552      0 -18.203552              0              0   \n",
       "29          10  33.474044      0 -16.974044              0              0   \n",
       "32          11  31.469945      0 -14.969945              0              0   \n",
       "43          12  29.202186      0 -12.702186              0              0   \n",
       "...        ...        ...    ...        ...            ...            ...   \n",
       "2489553     12   0.229508      0  13.650273              0              0   \n",
       "2489554      8   0.247268      0  13.632514              0              0   \n",
       "2489555     12   0.229508      0  13.825137              0              0   \n",
       "2489556     10   0.244536      1  13.497268              0              0   \n",
       "2489557     28   0.250000    451   2.728142              0              0   \n",
       "\n",
       "         Var_5_Class_3  Var_5_Class_4  Var_5_Class_5  Var_5_Class_6  ...  \\\n",
       "22                   0              0              0              0  ...   \n",
       "25                   1              0              0              0  ...   \n",
       "29                   0              0              0              0  ...   \n",
       "32                   0              0              0              1  ...   \n",
       "43                   0              0              0              0  ...   \n",
       "...                ...            ...            ...            ...  ...   \n",
       "2489553              1              0              0              0  ...   \n",
       "2489554              1              0              0              0  ...   \n",
       "2489555              1              0              0              0  ...   \n",
       "2489556              1              0              0              0  ...   \n",
       "2489557              0              0              0              0  ...   \n",
       "\n",
       "         Var_6_Class_11  Var_6_Class_12  Var_7  Var_8  Var_9  Var_10  Var_11  \\\n",
       "22                    1               0      1      1      0       0     NaN   \n",
       "25                    0               0      1      0      0       0     NaN   \n",
       "29                    0               0      1      0      0       0     NaN   \n",
       "32                    0               0      1      1      0       0     NaN   \n",
       "43                    0               0      1      1      0       0     NaN   \n",
       "...                 ...             ...    ...    ...    ...     ...     ...   \n",
       "2489553               0               1      3      0      0       0     NaN   \n",
       "2489554               0               0      3      0      0       0     NaN   \n",
       "2489555               0               1      2      0      0       0     NaN   \n",
       "2489556               0               0      2      0      0       0     NaN   \n",
       "2489557               0               0     16      0      0       0     NaN   \n",
       "\n",
       "            Var_12  Var_13  Val_11_predicte  \n",
       "22       62.987413      17     -1494.446542  \n",
       "25             NaN      20     -1494.446542  \n",
       "29             NaN      19     -1494.446542  \n",
       "32             NaN      18     -1494.446542  \n",
       "43             NaN      18     -1494.446542  \n",
       "...            ...     ...              ...  \n",
       "2489553        NaN      19     -1494.446542  \n",
       "2489554        NaN      20     -1494.446542  \n",
       "2489555        NaN      19     -1494.446542  \n",
       "2489556        NaN      20     -1494.446542  \n",
       "2489557        NaN      20     -1494.446542  \n",
       "\n",
       "[604664 rows x 32 columns]"
      ],
      "text/html": [
       "<div>\n",
       "<style scoped>\n",
       "    .dataframe tbody tr th:only-of-type {\n",
       "        vertical-align: middle;\n",
       "    }\n",
       "\n",
       "    .dataframe tbody tr th {\n",
       "        vertical-align: top;\n",
       "    }\n",
       "\n",
       "    .dataframe thead th {\n",
       "        text-align: right;\n",
       "    }\n",
       "</style>\n",
       "<table border=\"1\" class=\"dataframe\">\n",
       "  <thead>\n",
       "    <tr style=\"text-align: right;\">\n",
       "      <th></th>\n",
       "      <th>Var_1</th>\n",
       "      <th>Var_2</th>\n",
       "      <th>Var_3</th>\n",
       "      <th>Var_4</th>\n",
       "      <th>Var_5_Class_1</th>\n",
       "      <th>Var_5_Class_2</th>\n",
       "      <th>Var_5_Class_3</th>\n",
       "      <th>Var_5_Class_4</th>\n",
       "      <th>Var_5_Class_5</th>\n",
       "      <th>Var_5_Class_6</th>\n",
       "      <th>...</th>\n",
       "      <th>Var_6_Class_11</th>\n",
       "      <th>Var_6_Class_12</th>\n",
       "      <th>Var_7</th>\n",
       "      <th>Var_8</th>\n",
       "      <th>Var_9</th>\n",
       "      <th>Var_10</th>\n",
       "      <th>Var_11</th>\n",
       "      <th>Var_12</th>\n",
       "      <th>Var_13</th>\n",
       "      <th>Val_11_predicte</th>\n",
       "    </tr>\n",
       "  </thead>\n",
       "  <tbody>\n",
       "    <tr>\n",
       "      <th>22</th>\n",
       "      <td>10</td>\n",
       "      <td>34.628415</td>\n",
       "      <td>0</td>\n",
       "      <td>-18.128415</td>\n",
       "      <td>0</td>\n",
       "      <td>0</td>\n",
       "      <td>0</td>\n",
       "      <td>0</td>\n",
       "      <td>0</td>\n",
       "      <td>0</td>\n",
       "      <td>...</td>\n",
       "      <td>1</td>\n",
       "      <td>0</td>\n",
       "      <td>1</td>\n",
       "      <td>1</td>\n",
       "      <td>0</td>\n",
       "      <td>0</td>\n",
       "      <td>NaN</td>\n",
       "      <td>62.987413</td>\n",
       "      <td>17</td>\n",
       "      <td>-1494.446542</td>\n",
       "    </tr>\n",
       "    <tr>\n",
       "      <th>25</th>\n",
       "      <td>8</td>\n",
       "      <td>34.703552</td>\n",
       "      <td>0</td>\n",
       "      <td>-18.203552</td>\n",
       "      <td>0</td>\n",
       "      <td>0</td>\n",
       "      <td>1</td>\n",
       "      <td>0</td>\n",
       "      <td>0</td>\n",
       "      <td>0</td>\n",
       "      <td>...</td>\n",
       "      <td>0</td>\n",
       "      <td>0</td>\n",
       "      <td>1</td>\n",
       "      <td>0</td>\n",
       "      <td>0</td>\n",
       "      <td>0</td>\n",
       "      <td>NaN</td>\n",
       "      <td>NaN</td>\n",
       "      <td>20</td>\n",
       "      <td>-1494.446542</td>\n",
       "    </tr>\n",
       "    <tr>\n",
       "      <th>29</th>\n",
       "      <td>10</td>\n",
       "      <td>33.474044</td>\n",
       "      <td>0</td>\n",
       "      <td>-16.974044</td>\n",
       "      <td>0</td>\n",
       "      <td>0</td>\n",
       "      <td>0</td>\n",
       "      <td>0</td>\n",
       "      <td>0</td>\n",
       "      <td>0</td>\n",
       "      <td>...</td>\n",
       "      <td>0</td>\n",
       "      <td>0</td>\n",
       "      <td>1</td>\n",
       "      <td>0</td>\n",
       "      <td>0</td>\n",
       "      <td>0</td>\n",
       "      <td>NaN</td>\n",
       "      <td>NaN</td>\n",
       "      <td>19</td>\n",
       "      <td>-1494.446542</td>\n",
       "    </tr>\n",
       "    <tr>\n",
       "      <th>32</th>\n",
       "      <td>11</td>\n",
       "      <td>31.469945</td>\n",
       "      <td>0</td>\n",
       "      <td>-14.969945</td>\n",
       "      <td>0</td>\n",
       "      <td>0</td>\n",
       "      <td>0</td>\n",
       "      <td>0</td>\n",
       "      <td>0</td>\n",
       "      <td>1</td>\n",
       "      <td>...</td>\n",
       "      <td>0</td>\n",
       "      <td>0</td>\n",
       "      <td>1</td>\n",
       "      <td>1</td>\n",
       "      <td>0</td>\n",
       "      <td>0</td>\n",
       "      <td>NaN</td>\n",
       "      <td>NaN</td>\n",
       "      <td>18</td>\n",
       "      <td>-1494.446542</td>\n",
       "    </tr>\n",
       "    <tr>\n",
       "      <th>43</th>\n",
       "      <td>12</td>\n",
       "      <td>29.202186</td>\n",
       "      <td>0</td>\n",
       "      <td>-12.702186</td>\n",
       "      <td>0</td>\n",
       "      <td>0</td>\n",
       "      <td>0</td>\n",
       "      <td>0</td>\n",
       "      <td>0</td>\n",
       "      <td>0</td>\n",
       "      <td>...</td>\n",
       "      <td>0</td>\n",
       "      <td>0</td>\n",
       "      <td>1</td>\n",
       "      <td>1</td>\n",
       "      <td>0</td>\n",
       "      <td>0</td>\n",
       "      <td>NaN</td>\n",
       "      <td>NaN</td>\n",
       "      <td>18</td>\n",
       "      <td>-1494.446542</td>\n",
       "    </tr>\n",
       "    <tr>\n",
       "      <th>...</th>\n",
       "      <td>...</td>\n",
       "      <td>...</td>\n",
       "      <td>...</td>\n",
       "      <td>...</td>\n",
       "      <td>...</td>\n",
       "      <td>...</td>\n",
       "      <td>...</td>\n",
       "      <td>...</td>\n",
       "      <td>...</td>\n",
       "      <td>...</td>\n",
       "      <td>...</td>\n",
       "      <td>...</td>\n",
       "      <td>...</td>\n",
       "      <td>...</td>\n",
       "      <td>...</td>\n",
       "      <td>...</td>\n",
       "      <td>...</td>\n",
       "      <td>...</td>\n",
       "      <td>...</td>\n",
       "      <td>...</td>\n",
       "      <td>...</td>\n",
       "    </tr>\n",
       "    <tr>\n",
       "      <th>2489553</th>\n",
       "      <td>12</td>\n",
       "      <td>0.229508</td>\n",
       "      <td>0</td>\n",
       "      <td>13.650273</td>\n",
       "      <td>0</td>\n",
       "      <td>0</td>\n",
       "      <td>1</td>\n",
       "      <td>0</td>\n",
       "      <td>0</td>\n",
       "      <td>0</td>\n",
       "      <td>...</td>\n",
       "      <td>0</td>\n",
       "      <td>1</td>\n",
       "      <td>3</td>\n",
       "      <td>0</td>\n",
       "      <td>0</td>\n",
       "      <td>0</td>\n",
       "      <td>NaN</td>\n",
       "      <td>NaN</td>\n",
       "      <td>19</td>\n",
       "      <td>-1494.446542</td>\n",
       "    </tr>\n",
       "    <tr>\n",
       "      <th>2489554</th>\n",
       "      <td>8</td>\n",
       "      <td>0.247268</td>\n",
       "      <td>0</td>\n",
       "      <td>13.632514</td>\n",
       "      <td>0</td>\n",
       "      <td>0</td>\n",
       "      <td>1</td>\n",
       "      <td>0</td>\n",
       "      <td>0</td>\n",
       "      <td>0</td>\n",
       "      <td>...</td>\n",
       "      <td>0</td>\n",
       "      <td>0</td>\n",
       "      <td>3</td>\n",
       "      <td>0</td>\n",
       "      <td>0</td>\n",
       "      <td>0</td>\n",
       "      <td>NaN</td>\n",
       "      <td>NaN</td>\n",
       "      <td>20</td>\n",
       "      <td>-1494.446542</td>\n",
       "    </tr>\n",
       "    <tr>\n",
       "      <th>2489555</th>\n",
       "      <td>12</td>\n",
       "      <td>0.229508</td>\n",
       "      <td>0</td>\n",
       "      <td>13.825137</td>\n",
       "      <td>0</td>\n",
       "      <td>0</td>\n",
       "      <td>1</td>\n",
       "      <td>0</td>\n",
       "      <td>0</td>\n",
       "      <td>0</td>\n",
       "      <td>...</td>\n",
       "      <td>0</td>\n",
       "      <td>1</td>\n",
       "      <td>2</td>\n",
       "      <td>0</td>\n",
       "      <td>0</td>\n",
       "      <td>0</td>\n",
       "      <td>NaN</td>\n",
       "      <td>NaN</td>\n",
       "      <td>19</td>\n",
       "      <td>-1494.446542</td>\n",
       "    </tr>\n",
       "    <tr>\n",
       "      <th>2489556</th>\n",
       "      <td>10</td>\n",
       "      <td>0.244536</td>\n",
       "      <td>1</td>\n",
       "      <td>13.497268</td>\n",
       "      <td>0</td>\n",
       "      <td>0</td>\n",
       "      <td>1</td>\n",
       "      <td>0</td>\n",
       "      <td>0</td>\n",
       "      <td>0</td>\n",
       "      <td>...</td>\n",
       "      <td>0</td>\n",
       "      <td>0</td>\n",
       "      <td>2</td>\n",
       "      <td>0</td>\n",
       "      <td>0</td>\n",
       "      <td>0</td>\n",
       "      <td>NaN</td>\n",
       "      <td>NaN</td>\n",
       "      <td>20</td>\n",
       "      <td>-1494.446542</td>\n",
       "    </tr>\n",
       "    <tr>\n",
       "      <th>2489557</th>\n",
       "      <td>28</td>\n",
       "      <td>0.250000</td>\n",
       "      <td>451</td>\n",
       "      <td>2.728142</td>\n",
       "      <td>0</td>\n",
       "      <td>0</td>\n",
       "      <td>0</td>\n",
       "      <td>0</td>\n",
       "      <td>0</td>\n",
       "      <td>0</td>\n",
       "      <td>...</td>\n",
       "      <td>0</td>\n",
       "      <td>0</td>\n",
       "      <td>16</td>\n",
       "      <td>0</td>\n",
       "      <td>0</td>\n",
       "      <td>0</td>\n",
       "      <td>NaN</td>\n",
       "      <td>NaN</td>\n",
       "      <td>20</td>\n",
       "      <td>-1494.446542</td>\n",
       "    </tr>\n",
       "  </tbody>\n",
       "</table>\n",
       "<p>604664 rows × 32 columns</p>\n",
       "</div>"
      ]
     },
     "metadata": {},
     "execution_count": 218
    }
   ],
   "metadata": {}
  },
  {
   "cell_type": "code",
   "execution_count": 219,
   "source": [
    "import math"
   ],
   "outputs": [],
   "metadata": {}
  },
  {
   "cell_type": "code",
   "execution_count": 220,
   "source": [
    "impute_independent_var.Val_11_predicte = impute_independent_var.Val_11_predicte.apply(lambda x: format(x, '.2f'))"
   ],
   "outputs": [],
   "metadata": {}
  },
  {
   "cell_type": "code",
   "execution_count": 221,
   "source": [
    "impute_independent_var.Var_11.fillna(impute_independent_var.Val_11_predicte, inplace=True)"
   ],
   "outputs": [],
   "metadata": {}
  },
  {
   "cell_type": "code",
   "execution_count": 222,
   "source": [
    "#impute_independent_var[impute_independent_var.Var_11.isna()].Var_11 = impute_independent_var[impute_independent_var.Var_11.isna()].Var_11.replace(impute_independent_var[impute_independent_var.Var_11.isna()].Var_11, impute_independent_var[impute_independent_var.Var_11.isna()].Val_11_predicte) "
   ],
   "outputs": [],
   "metadata": {}
  },
  {
   "cell_type": "code",
   "execution_count": 134,
   "source": [
    "#impute_independent_var.to_csv(\"Temp_test.csv\", index=False)"
   ],
   "outputs": [],
   "metadata": {}
  },
  {
   "cell_type": "code",
   "execution_count": null,
   "source": [
    "# for i in impute_independent_var.Var_11:\r\n",
    "#     if(math.isnan(i)):\r\n",
    "#         impute_independent_var.Var_11 = impute_independent_var.Val_11_predicte"
   ],
   "outputs": [],
   "metadata": {}
  },
  {
   "cell_type": "code",
   "execution_count": 223,
   "source": [
    "impute_independent_var.isna().sum()"
   ],
   "outputs": [
    {
     "output_type": "execute_result",
     "data": {
      "text/plain": [
       "Var_1                   0\n",
       "Var_2                   0\n",
       "Var_3                   0\n",
       "Var_4                   0\n",
       "Var_5_Class_1           0\n",
       "Var_5_Class_2           0\n",
       "Var_5_Class_3           0\n",
       "Var_5_Class_4           0\n",
       "Var_5_Class_5           0\n",
       "Var_5_Class_6           0\n",
       "Var_5_Class_7           0\n",
       "Var_5_Class_8           0\n",
       "Var_6_Class_1           0\n",
       "Var_6_Class_2           0\n",
       "Var_6_Class_3           0\n",
       "Var_6_Class_4           0\n",
       "Var_6_Class_5           0\n",
       "Var_6_Class_6           0\n",
       "Var_6_Class_7           0\n",
       "Var_6_Class_8           0\n",
       "Var_6_Class_9           0\n",
       "Var_6_Class_10          0\n",
       "Var_6_Class_11          0\n",
       "Var_6_Class_12          0\n",
       "Var_7                   0\n",
       "Var_8                   0\n",
       "Var_9                   0\n",
       "Var_10                  0\n",
       "Var_11                  0\n",
       "Var_12             295215\n",
       "Var_13                  0\n",
       "Val_11_predicte         0\n",
       "dtype: int64"
      ]
     },
     "metadata": {},
     "execution_count": 223
    }
   ],
   "metadata": {}
  },
  {
   "cell_type": "code",
   "execution_count": 224,
   "source": [
    "impute_independent_var.drop(\"Val_11_predicte\", inplace=True, axis=1)"
   ],
   "outputs": [],
   "metadata": {}
  },
  {
   "cell_type": "code",
   "execution_count": 225,
   "source": [
    "impute_independent_var.shape, prediction_data_1.shape"
   ],
   "outputs": [
    {
     "output_type": "execute_result",
     "data": {
      "text/plain": [
       "((2489558, 31), (2489558, 31))"
      ]
     },
     "metadata": {},
     "execution_count": 225
    }
   ],
   "metadata": {}
  },
  {
   "cell_type": "code",
   "execution_count": 226,
   "source": [
    "impute_independent_var.to_csv(\"Var_11_imputed.csv\", index=False)"
   ],
   "outputs": [],
   "metadata": {}
  },
  {
   "cell_type": "markdown",
   "source": [
    "## Predict Val_12"
   ],
   "metadata": {}
  },
  {
   "cell_type": "code",
   "execution_count": 227,
   "source": [
    "impute_independent_var = pd.read_csv(\"Var_11_imputed.csv\")"
   ],
   "outputs": [],
   "metadata": {}
  },
  {
   "cell_type": "code",
   "execution_count": 228,
   "source": [
    "impute_independent_var.shape"
   ],
   "outputs": [
    {
     "output_type": "execute_result",
     "data": {
      "text/plain": [
       "(2489558, 31)"
      ]
     },
     "metadata": {},
     "execution_count": 228
    }
   ],
   "metadata": {}
  },
  {
   "cell_type": "code",
   "execution_count": 229,
   "source": [
    "data_skewness(impute_independent_var)"
   ],
   "outputs": [
    {
     "output_type": "stream",
     "name": "stdout",
     "text": [
      "Var_1 :   3.9019749056127604\n",
      "Var_2 :   1.2858898594763082\n",
      "Var_3 :   18.706620448485587\n",
      "Var_4 :   -1.2845748252297844\n",
      "Var_7 :   40.15172939399318\n",
      "Var_8 :   10.27761779642971\n",
      "Var_11 :   -1.1923984299476802\n",
      "Var_12 :   0.05928250706545684\n",
      "Var_13 :   -0.13667133273249232\n"
     ]
    }
   ],
   "metadata": {}
  },
  {
   "cell_type": "code",
   "execution_count": 230,
   "source": [
    "# Removing skewness. Taking root for positive skewed data and power for negatively skewed data\r\n",
    "impute_independent_var[\"Var_1\"] = np.sqrt(impute_independent_var[\"Var_1\"])\r\n",
    "impute_independent_var[\"Var_2\"] = np.sqrt(impute_independent_var[\"Var_2\"])\r\n",
    "impute_independent_var[\"Var_3\"] = np.cbrt(impute_independent_var[\"Var_3\"])\r\n",
    "impute_independent_var[\"Var_7\"] = np.cbrt(impute_independent_var[\"Var_7\"])\r\n",
    "impute_independent_var[\"Var_8\"] = np.cbrt(impute_independent_var[\"Var_8\"])\r\n",
    "impute_independent_var[\"Var_11\"] = np.power(impute_independent_var[\"Var_11\"], 5)\r\n",
    "#prediction_data_1[\"Var_4\"] = np.power(prediction_data_1[\"Var_4\"], 6)"
   ],
   "outputs": [],
   "metadata": {}
  },
  {
   "cell_type": "code",
   "execution_count": 231,
   "source": [
    "impute_independent_var.isna().sum()"
   ],
   "outputs": [
    {
     "output_type": "execute_result",
     "data": {
      "text/plain": [
       "Var_1                  0\n",
       "Var_2                  0\n",
       "Var_3                  0\n",
       "Var_4                  0\n",
       "Var_5_Class_1          0\n",
       "Var_5_Class_2          0\n",
       "Var_5_Class_3          0\n",
       "Var_5_Class_4          0\n",
       "Var_5_Class_5          0\n",
       "Var_5_Class_6          0\n",
       "Var_5_Class_7          0\n",
       "Var_5_Class_8          0\n",
       "Var_6_Class_1          0\n",
       "Var_6_Class_2          0\n",
       "Var_6_Class_3          0\n",
       "Var_6_Class_4          0\n",
       "Var_6_Class_5          0\n",
       "Var_6_Class_6          0\n",
       "Var_6_Class_7          0\n",
       "Var_6_Class_8          0\n",
       "Var_6_Class_9          0\n",
       "Var_6_Class_10         0\n",
       "Var_6_Class_11         0\n",
       "Var_6_Class_12         0\n",
       "Var_7                  0\n",
       "Var_8                  0\n",
       "Var_9                  0\n",
       "Var_10                 0\n",
       "Var_11                 0\n",
       "Var_12            295215\n",
       "Var_13                 0\n",
       "dtype: int64"
      ]
     },
     "metadata": {},
     "execution_count": 231
    }
   ],
   "metadata": {}
  },
  {
   "cell_type": "code",
   "execution_count": 232,
   "source": [
    "impute_independent_var.drop(impute_independent_var[pd.isna(impute_independent_var.Var_12)].index, inplace=True)"
   ],
   "outputs": [],
   "metadata": {}
  },
  {
   "cell_type": "code",
   "execution_count": 233,
   "source": [
    "# Segregating data in independent and dependent variables\r\n",
    "\r\n",
    "X_impute = impute_independent_var.drop(['Var_12', 'Var_11'], axis=1)\r\n",
    "y_impute = impute_independent_var['Var_12']"
   ],
   "outputs": [],
   "metadata": {}
  },
  {
   "cell_type": "code",
   "execution_count": 234,
   "source": [
    "from sklearn.model_selection import train_test_split\r\n",
    "\r\n",
    "train_X_impute, test_X_impute, train_y_impute, test_y_impute = train_test_split(X_impute, y_impute, random_state=122, stratify = y_impute)"
   ],
   "outputs": [],
   "metadata": {}
  },
  {
   "cell_type": "code",
   "execution_count": 235,
   "source": [
    "from sklearn.ensemble import RandomForestRegressor\r\n",
    "\r\n",
    "var_12_model = RandomForestRegressor(n_estimators=10, random_state=12)"
   ],
   "outputs": [],
   "metadata": {}
  },
  {
   "cell_type": "code",
   "execution_count": 236,
   "source": [
    "train_X_impute.isna().sum()"
   ],
   "outputs": [
    {
     "output_type": "execute_result",
     "data": {
      "text/plain": [
       "Var_1             0\n",
       "Var_2             0\n",
       "Var_3             0\n",
       "Var_4             0\n",
       "Var_5_Class_1     0\n",
       "Var_5_Class_2     0\n",
       "Var_5_Class_3     0\n",
       "Var_5_Class_4     0\n",
       "Var_5_Class_5     0\n",
       "Var_5_Class_6     0\n",
       "Var_5_Class_7     0\n",
       "Var_5_Class_8     0\n",
       "Var_6_Class_1     0\n",
       "Var_6_Class_2     0\n",
       "Var_6_Class_3     0\n",
       "Var_6_Class_4     0\n",
       "Var_6_Class_5     0\n",
       "Var_6_Class_6     0\n",
       "Var_6_Class_7     0\n",
       "Var_6_Class_8     0\n",
       "Var_6_Class_9     0\n",
       "Var_6_Class_10    0\n",
       "Var_6_Class_11    0\n",
       "Var_6_Class_12    0\n",
       "Var_7             0\n",
       "Var_8             0\n",
       "Var_9             0\n",
       "Var_10            0\n",
       "Var_13            0\n",
       "dtype: int64"
      ]
     },
     "metadata": {},
     "execution_count": 236
    }
   ],
   "metadata": {}
  },
  {
   "cell_type": "code",
   "execution_count": 237,
   "source": [
    "var_12_model.fit(train_X_impute, train_y_impute)"
   ],
   "outputs": [
    {
     "output_type": "execute_result",
     "data": {
      "text/plain": [
       "RandomForestRegressor(n_estimators=10, random_state=12)"
      ]
     },
     "metadata": {},
     "execution_count": 237
    }
   ],
   "metadata": {}
  },
  {
   "cell_type": "code",
   "execution_count": 238,
   "source": [
    "impute_independent_var = pd.read_csv('Var_11_imputed.csv')\r\n",
    "\r\n",
    "X_impute = impute_independent_var.drop(['Var_11', 'Var_12'], axis=1)\r\n",
    "y_impute = impute_independent_var['Var_12']"
   ],
   "outputs": [],
   "metadata": {}
  },
  {
   "cell_type": "code",
   "execution_count": 239,
   "source": [
    "impute_independent_var['Val_12_predicte'] = var_12_model.predict(X_impute)"
   ],
   "outputs": [],
   "metadata": {}
  },
  {
   "cell_type": "code",
   "execution_count": 240,
   "source": [
    "impute_independent_var[impute_independent_var.Var_12.isnull()]"
   ],
   "outputs": [
    {
     "output_type": "execute_result",
     "data": {
      "text/plain": [
       "         Var_1      Var_2  Var_3      Var_4  Var_5_Class_1  Var_5_Class_2  \\\n",
       "25           8  34.703552      0 -18.203552              0              0   \n",
       "29          10  33.474044      0 -16.974044              0              0   \n",
       "32          11  31.469945      0 -14.969945              0              0   \n",
       "43          12  29.202186      0 -12.702186              0              0   \n",
       "51          19  27.908470      1 -11.408470              0              0   \n",
       "...        ...        ...    ...        ...            ...            ...   \n",
       "2489553     12   0.229508      0  13.650273              0              0   \n",
       "2489554      8   0.247268      0  13.632514              0              0   \n",
       "2489555     12   0.229508      0  13.825137              0              0   \n",
       "2489556     10   0.244536      1  13.497268              0              0   \n",
       "2489557     28   0.250000    451   2.728142              0              0   \n",
       "\n",
       "         Var_5_Class_3  Var_5_Class_4  Var_5_Class_5  Var_5_Class_6  ...  \\\n",
       "25                   1              0              0              0  ...   \n",
       "29                   0              0              0              0  ...   \n",
       "32                   0              0              0              1  ...   \n",
       "43                   0              0              0              0  ...   \n",
       "51                   1              0              0              0  ...   \n",
       "...                ...            ...            ...            ...  ...   \n",
       "2489553              1              0              0              0  ...   \n",
       "2489554              1              0              0              0  ...   \n",
       "2489555              1              0              0              0  ...   \n",
       "2489556              1              0              0              0  ...   \n",
       "2489557              0              0              0              0  ...   \n",
       "\n",
       "         Var_6_Class_11  Var_6_Class_12  Var_7  Var_8  Var_9  Var_10   Var_11  \\\n",
       "25                    0               0      1      0      0       0 -1494.45   \n",
       "29                    0               0      1      0      0       0 -1494.45   \n",
       "32                    0               0      1      1      0       0 -1494.45   \n",
       "43                    0               0      1      1      0       0 -1494.45   \n",
       "51                    0               0      1      0      0       0 -1494.45   \n",
       "...                 ...             ...    ...    ...    ...     ...      ...   \n",
       "2489553               0               1      3      0      0       0 -1494.45   \n",
       "2489554               0               0      3      0      0       0 -1494.45   \n",
       "2489555               0               1      2      0      0       0 -1494.45   \n",
       "2489556               0               0      2      0      0       0 -1494.45   \n",
       "2489557               0               0     16      0      0       0 -1494.45   \n",
       "\n",
       "         Var_12  Var_13  Val_12_predicte  \n",
       "25          NaN      20        62.987413  \n",
       "29          NaN      19        62.987413  \n",
       "32          NaN      18        62.987413  \n",
       "43          NaN      18        62.987413  \n",
       "51          NaN      18        62.987413  \n",
       "...         ...     ...              ...  \n",
       "2489553     NaN      19        62.987413  \n",
       "2489554     NaN      20        62.987413  \n",
       "2489555     NaN      19        62.987413  \n",
       "2489556     NaN      20        62.987413  \n",
       "2489557     NaN      20        62.987413  \n",
       "\n",
       "[295215 rows x 32 columns]"
      ],
      "text/html": [
       "<div>\n",
       "<style scoped>\n",
       "    .dataframe tbody tr th:only-of-type {\n",
       "        vertical-align: middle;\n",
       "    }\n",
       "\n",
       "    .dataframe tbody tr th {\n",
       "        vertical-align: top;\n",
       "    }\n",
       "\n",
       "    .dataframe thead th {\n",
       "        text-align: right;\n",
       "    }\n",
       "</style>\n",
       "<table border=\"1\" class=\"dataframe\">\n",
       "  <thead>\n",
       "    <tr style=\"text-align: right;\">\n",
       "      <th></th>\n",
       "      <th>Var_1</th>\n",
       "      <th>Var_2</th>\n",
       "      <th>Var_3</th>\n",
       "      <th>Var_4</th>\n",
       "      <th>Var_5_Class_1</th>\n",
       "      <th>Var_5_Class_2</th>\n",
       "      <th>Var_5_Class_3</th>\n",
       "      <th>Var_5_Class_4</th>\n",
       "      <th>Var_5_Class_5</th>\n",
       "      <th>Var_5_Class_6</th>\n",
       "      <th>...</th>\n",
       "      <th>Var_6_Class_11</th>\n",
       "      <th>Var_6_Class_12</th>\n",
       "      <th>Var_7</th>\n",
       "      <th>Var_8</th>\n",
       "      <th>Var_9</th>\n",
       "      <th>Var_10</th>\n",
       "      <th>Var_11</th>\n",
       "      <th>Var_12</th>\n",
       "      <th>Var_13</th>\n",
       "      <th>Val_12_predicte</th>\n",
       "    </tr>\n",
       "  </thead>\n",
       "  <tbody>\n",
       "    <tr>\n",
       "      <th>25</th>\n",
       "      <td>8</td>\n",
       "      <td>34.703552</td>\n",
       "      <td>0</td>\n",
       "      <td>-18.203552</td>\n",
       "      <td>0</td>\n",
       "      <td>0</td>\n",
       "      <td>1</td>\n",
       "      <td>0</td>\n",
       "      <td>0</td>\n",
       "      <td>0</td>\n",
       "      <td>...</td>\n",
       "      <td>0</td>\n",
       "      <td>0</td>\n",
       "      <td>1</td>\n",
       "      <td>0</td>\n",
       "      <td>0</td>\n",
       "      <td>0</td>\n",
       "      <td>-1494.45</td>\n",
       "      <td>NaN</td>\n",
       "      <td>20</td>\n",
       "      <td>62.987413</td>\n",
       "    </tr>\n",
       "    <tr>\n",
       "      <th>29</th>\n",
       "      <td>10</td>\n",
       "      <td>33.474044</td>\n",
       "      <td>0</td>\n",
       "      <td>-16.974044</td>\n",
       "      <td>0</td>\n",
       "      <td>0</td>\n",
       "      <td>0</td>\n",
       "      <td>0</td>\n",
       "      <td>0</td>\n",
       "      <td>0</td>\n",
       "      <td>...</td>\n",
       "      <td>0</td>\n",
       "      <td>0</td>\n",
       "      <td>1</td>\n",
       "      <td>0</td>\n",
       "      <td>0</td>\n",
       "      <td>0</td>\n",
       "      <td>-1494.45</td>\n",
       "      <td>NaN</td>\n",
       "      <td>19</td>\n",
       "      <td>62.987413</td>\n",
       "    </tr>\n",
       "    <tr>\n",
       "      <th>32</th>\n",
       "      <td>11</td>\n",
       "      <td>31.469945</td>\n",
       "      <td>0</td>\n",
       "      <td>-14.969945</td>\n",
       "      <td>0</td>\n",
       "      <td>0</td>\n",
       "      <td>0</td>\n",
       "      <td>0</td>\n",
       "      <td>0</td>\n",
       "      <td>1</td>\n",
       "      <td>...</td>\n",
       "      <td>0</td>\n",
       "      <td>0</td>\n",
       "      <td>1</td>\n",
       "      <td>1</td>\n",
       "      <td>0</td>\n",
       "      <td>0</td>\n",
       "      <td>-1494.45</td>\n",
       "      <td>NaN</td>\n",
       "      <td>18</td>\n",
       "      <td>62.987413</td>\n",
       "    </tr>\n",
       "    <tr>\n",
       "      <th>43</th>\n",
       "      <td>12</td>\n",
       "      <td>29.202186</td>\n",
       "      <td>0</td>\n",
       "      <td>-12.702186</td>\n",
       "      <td>0</td>\n",
       "      <td>0</td>\n",
       "      <td>0</td>\n",
       "      <td>0</td>\n",
       "      <td>0</td>\n",
       "      <td>0</td>\n",
       "      <td>...</td>\n",
       "      <td>0</td>\n",
       "      <td>0</td>\n",
       "      <td>1</td>\n",
       "      <td>1</td>\n",
       "      <td>0</td>\n",
       "      <td>0</td>\n",
       "      <td>-1494.45</td>\n",
       "      <td>NaN</td>\n",
       "      <td>18</td>\n",
       "      <td>62.987413</td>\n",
       "    </tr>\n",
       "    <tr>\n",
       "      <th>51</th>\n",
       "      <td>19</td>\n",
       "      <td>27.908470</td>\n",
       "      <td>1</td>\n",
       "      <td>-11.408470</td>\n",
       "      <td>0</td>\n",
       "      <td>0</td>\n",
       "      <td>1</td>\n",
       "      <td>0</td>\n",
       "      <td>0</td>\n",
       "      <td>0</td>\n",
       "      <td>...</td>\n",
       "      <td>0</td>\n",
       "      <td>0</td>\n",
       "      <td>1</td>\n",
       "      <td>0</td>\n",
       "      <td>0</td>\n",
       "      <td>0</td>\n",
       "      <td>-1494.45</td>\n",
       "      <td>NaN</td>\n",
       "      <td>18</td>\n",
       "      <td>62.987413</td>\n",
       "    </tr>\n",
       "    <tr>\n",
       "      <th>...</th>\n",
       "      <td>...</td>\n",
       "      <td>...</td>\n",
       "      <td>...</td>\n",
       "      <td>...</td>\n",
       "      <td>...</td>\n",
       "      <td>...</td>\n",
       "      <td>...</td>\n",
       "      <td>...</td>\n",
       "      <td>...</td>\n",
       "      <td>...</td>\n",
       "      <td>...</td>\n",
       "      <td>...</td>\n",
       "      <td>...</td>\n",
       "      <td>...</td>\n",
       "      <td>...</td>\n",
       "      <td>...</td>\n",
       "      <td>...</td>\n",
       "      <td>...</td>\n",
       "      <td>...</td>\n",
       "      <td>...</td>\n",
       "      <td>...</td>\n",
       "    </tr>\n",
       "    <tr>\n",
       "      <th>2489553</th>\n",
       "      <td>12</td>\n",
       "      <td>0.229508</td>\n",
       "      <td>0</td>\n",
       "      <td>13.650273</td>\n",
       "      <td>0</td>\n",
       "      <td>0</td>\n",
       "      <td>1</td>\n",
       "      <td>0</td>\n",
       "      <td>0</td>\n",
       "      <td>0</td>\n",
       "      <td>...</td>\n",
       "      <td>0</td>\n",
       "      <td>1</td>\n",
       "      <td>3</td>\n",
       "      <td>0</td>\n",
       "      <td>0</td>\n",
       "      <td>0</td>\n",
       "      <td>-1494.45</td>\n",
       "      <td>NaN</td>\n",
       "      <td>19</td>\n",
       "      <td>62.987413</td>\n",
       "    </tr>\n",
       "    <tr>\n",
       "      <th>2489554</th>\n",
       "      <td>8</td>\n",
       "      <td>0.247268</td>\n",
       "      <td>0</td>\n",
       "      <td>13.632514</td>\n",
       "      <td>0</td>\n",
       "      <td>0</td>\n",
       "      <td>1</td>\n",
       "      <td>0</td>\n",
       "      <td>0</td>\n",
       "      <td>0</td>\n",
       "      <td>...</td>\n",
       "      <td>0</td>\n",
       "      <td>0</td>\n",
       "      <td>3</td>\n",
       "      <td>0</td>\n",
       "      <td>0</td>\n",
       "      <td>0</td>\n",
       "      <td>-1494.45</td>\n",
       "      <td>NaN</td>\n",
       "      <td>20</td>\n",
       "      <td>62.987413</td>\n",
       "    </tr>\n",
       "    <tr>\n",
       "      <th>2489555</th>\n",
       "      <td>12</td>\n",
       "      <td>0.229508</td>\n",
       "      <td>0</td>\n",
       "      <td>13.825137</td>\n",
       "      <td>0</td>\n",
       "      <td>0</td>\n",
       "      <td>1</td>\n",
       "      <td>0</td>\n",
       "      <td>0</td>\n",
       "      <td>0</td>\n",
       "      <td>...</td>\n",
       "      <td>0</td>\n",
       "      <td>1</td>\n",
       "      <td>2</td>\n",
       "      <td>0</td>\n",
       "      <td>0</td>\n",
       "      <td>0</td>\n",
       "      <td>-1494.45</td>\n",
       "      <td>NaN</td>\n",
       "      <td>19</td>\n",
       "      <td>62.987413</td>\n",
       "    </tr>\n",
       "    <tr>\n",
       "      <th>2489556</th>\n",
       "      <td>10</td>\n",
       "      <td>0.244536</td>\n",
       "      <td>1</td>\n",
       "      <td>13.497268</td>\n",
       "      <td>0</td>\n",
       "      <td>0</td>\n",
       "      <td>1</td>\n",
       "      <td>0</td>\n",
       "      <td>0</td>\n",
       "      <td>0</td>\n",
       "      <td>...</td>\n",
       "      <td>0</td>\n",
       "      <td>0</td>\n",
       "      <td>2</td>\n",
       "      <td>0</td>\n",
       "      <td>0</td>\n",
       "      <td>0</td>\n",
       "      <td>-1494.45</td>\n",
       "      <td>NaN</td>\n",
       "      <td>20</td>\n",
       "      <td>62.987413</td>\n",
       "    </tr>\n",
       "    <tr>\n",
       "      <th>2489557</th>\n",
       "      <td>28</td>\n",
       "      <td>0.250000</td>\n",
       "      <td>451</td>\n",
       "      <td>2.728142</td>\n",
       "      <td>0</td>\n",
       "      <td>0</td>\n",
       "      <td>0</td>\n",
       "      <td>0</td>\n",
       "      <td>0</td>\n",
       "      <td>0</td>\n",
       "      <td>...</td>\n",
       "      <td>0</td>\n",
       "      <td>0</td>\n",
       "      <td>16</td>\n",
       "      <td>0</td>\n",
       "      <td>0</td>\n",
       "      <td>0</td>\n",
       "      <td>-1494.45</td>\n",
       "      <td>NaN</td>\n",
       "      <td>20</td>\n",
       "      <td>62.987413</td>\n",
       "    </tr>\n",
       "  </tbody>\n",
       "</table>\n",
       "<p>295215 rows × 32 columns</p>\n",
       "</div>"
      ]
     },
     "metadata": {},
     "execution_count": 240
    }
   ],
   "metadata": {}
  },
  {
   "cell_type": "code",
   "execution_count": 241,
   "source": [
    "impute_independent_var.Val_12_predicte = impute_independent_var.Val_12_predicte.apply(lambda x: format(x, '.2f'))"
   ],
   "outputs": [],
   "metadata": {}
  },
  {
   "cell_type": "code",
   "execution_count": 242,
   "source": [
    "impute_independent_var.Var_12.isna().sum()"
   ],
   "outputs": [
    {
     "output_type": "execute_result",
     "data": {
      "text/plain": [
       "295215"
      ]
     },
     "metadata": {},
     "execution_count": 242
    }
   ],
   "metadata": {}
  },
  {
   "cell_type": "code",
   "execution_count": 243,
   "source": [
    "impute_independent_var.Var_12.fillna(impute_independent_var.Val_12_predicte, inplace=True)"
   ],
   "outputs": [],
   "metadata": {}
  },
  {
   "cell_type": "code",
   "execution_count": null,
   "source": [
    "#impute_independent_var[impute_independent_var.Var_12.isna()]['Var_12'] = impute_independent_var[impute_independent_var.Var_12.isna()]['Var_12'].replace(impute_independent_var.Var_12, impute_independent_var.Val_12_predicte) "
   ],
   "outputs": [],
   "metadata": {}
  },
  {
   "cell_type": "code",
   "execution_count": null,
   "source": [
    "# for i in impute_independent_var.Var_12:\r\n",
    "#     if(math.isnan(i)):\r\n",
    "#         impute_independent_var.Var_12 = impute_independent_var.Val_12_predicte"
   ],
   "outputs": [],
   "metadata": {}
  },
  {
   "cell_type": "code",
   "execution_count": 244,
   "source": [
    "impute_independent_var.drop(\"Val_12_predicte\", inplace=True, axis=1)"
   ],
   "outputs": [],
   "metadata": {}
  },
  {
   "cell_type": "code",
   "execution_count": 245,
   "source": [
    "impute_independent_var.isna().sum()"
   ],
   "outputs": [
    {
     "output_type": "execute_result",
     "data": {
      "text/plain": [
       "Var_1             0\n",
       "Var_2             0\n",
       "Var_3             0\n",
       "Var_4             0\n",
       "Var_5_Class_1     0\n",
       "Var_5_Class_2     0\n",
       "Var_5_Class_3     0\n",
       "Var_5_Class_4     0\n",
       "Var_5_Class_5     0\n",
       "Var_5_Class_6     0\n",
       "Var_5_Class_7     0\n",
       "Var_5_Class_8     0\n",
       "Var_6_Class_1     0\n",
       "Var_6_Class_2     0\n",
       "Var_6_Class_3     0\n",
       "Var_6_Class_4     0\n",
       "Var_6_Class_5     0\n",
       "Var_6_Class_6     0\n",
       "Var_6_Class_7     0\n",
       "Var_6_Class_8     0\n",
       "Var_6_Class_9     0\n",
       "Var_6_Class_10    0\n",
       "Var_6_Class_11    0\n",
       "Var_6_Class_12    0\n",
       "Var_7             0\n",
       "Var_8             0\n",
       "Var_9             0\n",
       "Var_10            0\n",
       "Var_11            0\n",
       "Var_12            0\n",
       "Var_13            0\n",
       "dtype: int64"
      ]
     },
     "metadata": {},
     "execution_count": 245
    }
   ],
   "metadata": {}
  },
  {
   "cell_type": "code",
   "execution_count": 246,
   "source": [
    "impute_independent_var.to_csv(\"v2_Inputs_for_Full_Predictions_1_imputed.csv\", index=False)"
   ],
   "outputs": [],
   "metadata": {}
  }
 ],
 "metadata": {
  "orig_nbformat": 4,
  "language_info": {
   "name": "python",
   "version": "3.8.2",
   "mimetype": "text/x-python",
   "codemirror_mode": {
    "name": "ipython",
    "version": 3
   },
   "pygments_lexer": "ipython3",
   "nbconvert_exporter": "python",
   "file_extension": ".py"
  },
  "kernelspec": {
   "name": "python3",
   "display_name": "Python 3.8.2 64-bit"
  },
  "interpreter": {
   "hash": "a9ed818579b1ba32d90b6b7b1ccc8e0ff75013e2740df16cc93d983c2f1c495e"
  }
 },
 "nbformat": 4,
 "nbformat_minor": 2
}