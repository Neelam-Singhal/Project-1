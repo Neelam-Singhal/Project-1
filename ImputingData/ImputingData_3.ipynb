{
 "cells": [
  {
   "cell_type": "code",
   "execution_count": 6,
   "source": [
    "import pandas as pd\r\n",
    "import numpy as np\r\n",
    "import matplotlib.pyplot as plt\r\n",
    "import seaborn as sns\r\n",
    "\r\n",
    "# To plot QQ plot\r\n",
    "import statsmodels.api as sm\r\n",
    "\r\n",
    "import warnings\r\n",
    "warnings.filterwarnings('ignore')"
   ],
   "outputs": [],
   "metadata": {}
  },
  {
   "cell_type": "markdown",
   "source": [
    "## Preprocess the data"
   ],
   "metadata": {}
  },
  {
   "cell_type": "markdown",
   "source": [
    "# Prediction Generation"
   ],
   "metadata": {}
  },
  {
   "cell_type": "markdown",
   "source": [
    "1. input data\r\n",
    "2. Preprocess Data:\r\n",
    "    - Replace -1 with 0s\r\n",
    "2. Do something about NA - Create submodels to impute missing values (Random Forest)\r\n",
    "2. Fit the model\r\n",
    "3. Generate Predictions\r\n",
    "4. Generate Confidence Score\r\n"
   ],
   "metadata": {}
  },
  {
   "cell_type": "code",
   "execution_count": 7,
   "source": [
    "prediction_data_1 = pd.read_csv('v2_Inputs_for_Full_Predictions_2_cleaned.csv')"
   ],
   "outputs": [],
   "metadata": {}
  },
  {
   "cell_type": "code",
   "execution_count": 8,
   "source": [
    "prediction_data_1.shape"
   ],
   "outputs": [
    {
     "output_type": "execute_result",
     "data": {
      "text/plain": [
       "(2489558, 31)"
      ]
     },
     "metadata": {},
     "execution_count": 8
    }
   ],
   "metadata": {}
  },
  {
   "cell_type": "code",
   "execution_count": 9,
   "source": [
    "prediction_data_1.isna().sum()"
   ],
   "outputs": [
    {
     "output_type": "execute_result",
     "data": {
      "text/plain": [
       "Var_1                   0\n",
       "Var_2                   0\n",
       "Var_3                   0\n",
       "Var_4                   0\n",
       "Var_5_Class_1           0\n",
       "Var_5_Class_2           0\n",
       "Var_5_Class_3           0\n",
       "Var_5_Class_4           0\n",
       "Var_5_Class_5           0\n",
       "Var_5_Class_6           0\n",
       "Var_5_Class_7           0\n",
       "Var_5_Class_8           0\n",
       "Var_6_Class_1           0\n",
       "Var_6_Class_2           0\n",
       "Var_6_Class_3           0\n",
       "Var_6_Class_4           0\n",
       "Var_6_Class_5           0\n",
       "Var_6_Class_6           0\n",
       "Var_6_Class_7           0\n",
       "Var_6_Class_8           0\n",
       "Var_6_Class_9           0\n",
       "Var_6_Class_10          0\n",
       "Var_6_Class_11          0\n",
       "Var_6_Class_12          0\n",
       "Var_7                   0\n",
       "Var_8                   0\n",
       "Var_9                   0\n",
       "Var_10                  0\n",
       "Var_11            1765433\n",
       "Var_12            1502976\n",
       "Var_13                  0\n",
       "dtype: int64"
      ]
     },
     "metadata": {},
     "execution_count": 9
    }
   ],
   "metadata": {}
  },
  {
   "cell_type": "code",
   "execution_count": 10,
   "source": [
    "data_numeric = ['Var_1', 'Var_2', 'Var_3', 'Var_4', 'Var_7', 'Var_8', 'Var_11', 'Var_12', 'Var_13']"
   ],
   "outputs": [],
   "metadata": {}
  },
  {
   "cell_type": "code",
   "execution_count": 11,
   "source": [
    "# Function to idenfity skewness\r\n",
    "def data_skewness(df):\r\n",
    "    for i in data_numeric:\r\n",
    "        print(i, \":  \", df[i].skew())"
   ],
   "outputs": [],
   "metadata": {}
  },
  {
   "cell_type": "code",
   "execution_count": 12,
   "source": [
    "data_skewness(prediction_data_1)"
   ],
   "outputs": [
    {
     "output_type": "stream",
     "name": "stdout",
     "text": [
      "Var_1 :   3.9019749056127604\n",
      "Var_2 :   1.2858898594763082\n",
      "Var_3 :   18.706620448485587\n",
      "Var_4 :   -1.2845748252297855\n",
      "Var_7 :   39.22619102899415\n",
      "Var_8 :   9.884109368629714\n",
      "Var_11 :   0.15954913972383067\n",
      "Var_12 :   -0.11080973977119667\n",
      "Var_13 :   -0.13667133273249232\n"
     ]
    }
   ],
   "metadata": {}
  },
  {
   "cell_type": "code",
   "execution_count": 13,
   "source": [
    "# Removing skewness for positivly skewed data\r\n",
    "prediction_data_1[\"Var_1\"] = np.sqrt(prediction_data_1[\"Var_1\"])\r\n",
    "prediction_data_1[\"Var_2\"] = np.sqrt(prediction_data_1[\"Var_2\"])\r\n",
    "prediction_data_1[\"Var_3\"] = np.cbrt(prediction_data_1[\"Var_3\"])\r\n",
    "prediction_data_1[\"Var_7\"] = np.cbrt(prediction_data_1[\"Var_7\"])\r\n",
    "prediction_data_1[\"Var_8\"] = np.cbrt(prediction_data_1[\"Var_8\"])\r\n",
    "\r\n",
    "# Removing skewness for negatively skewed data\r\n",
    "#data[\"Var_12\"] = np.power(data[\"Var_12\"], 2)\r\n",
    "#prediction_data_1[\"Var_4\"] = np.power(prediction_data_1[\"Var_4\"], 6)"
   ],
   "outputs": [],
   "metadata": {}
  },
  {
   "cell_type": "code",
   "execution_count": 14,
   "source": [
    "data_skewness(prediction_data_1)"
   ],
   "outputs": [
    {
     "output_type": "stream",
     "name": "stdout",
     "text": [
      "Var_1 :   0.49872883873460444\n",
      "Var_2 :   0.3576557463036899\n",
      "Var_3 :   0.9441237516931893\n",
      "Var_4 :   -1.2845748252297855\n",
      "Var_7 :   3.942982610036619\n",
      "Var_8 :   0.3741561309053679\n",
      "Var_11 :   0.15954913972383067\n",
      "Var_12 :   -0.11080973977119667\n",
      "Var_13 :   -0.13667133273249232\n"
     ]
    }
   ],
   "metadata": {}
  },
  {
   "cell_type": "markdown",
   "source": [
    "## Imputing missing data - Var 11\r\n",
    "- Create model to predict data."
   ],
   "metadata": {}
  },
  {
   "cell_type": "code",
   "execution_count": 15,
   "source": [
    "len(prediction_data_1[prediction_data_1.Var_11.isna() & prediction_data_1.Var_12.isna()]), len(prediction_data_1[prediction_data_1.Var_11.isna()]), len(prediction_data_1[prediction_data_1.Var_12.isna()])"
   ],
   "outputs": [
    {
     "output_type": "execute_result",
     "data": {
      "text/plain": [
       "(1502976, 1765433, 1502976)"
      ]
     },
     "metadata": {},
     "execution_count": 15
    }
   ],
   "metadata": {}
  },
  {
   "cell_type": "markdown",
   "source": [
    "We notied that whenever Var_12 is missing, Var_11 is also missing. We will 1st build a model to predict Var 11 and hold out Var 12. Then use final model to predict Var_12"
   ],
   "metadata": {}
  },
  {
   "cell_type": "code",
   "execution_count": 16,
   "source": [
    "#cols = prediction_data_1.columns\r\n",
    "cols = ['Var_1', 'Var_2', 'Var_3', 'Var_4', 'Var_5_Class_1', 'Var_5_Class_2',\r\n",
    "       'Var_5_Class_3', 'Var_5_Class_4', 'Var_5_Class_5', 'Var_5_Class_6',\r\n",
    "       'Var_5_Class_7', 'Var_5_Class_8', 'Var_6_Class_1', 'Var_6_Class_2',\r\n",
    "       'Var_6_Class_3', 'Var_6_Class_4', 'Var_6_Class_5', 'Var_6_Class_6',\r\n",
    "       'Var_6_Class_7', 'Var_6_Class_8', 'Var_6_Class_9', 'Var_6_Class_10',\r\n",
    "       'Var_6_Class_11', 'Var_6_Class_12', 'Var_7', 'Var_8', 'Var_9', 'Var_10','Var_11','Var_13']"
   ],
   "outputs": [],
   "metadata": {}
  },
  {
   "cell_type": "code",
   "execution_count": 17,
   "source": [
    "impute_independent_var = prediction_data_1[cols]"
   ],
   "outputs": [],
   "metadata": {}
  },
  {
   "cell_type": "code",
   "execution_count": 18,
   "source": [
    "impute_independent_var.drop(impute_independent_var[pd.isna(impute_independent_var.Var_11)].index, inplace=True)"
   ],
   "outputs": [],
   "metadata": {}
  },
  {
   "cell_type": "code",
   "execution_count": 19,
   "source": [
    "# Segregating data in independent and dependent variables\r\n",
    "\r\n",
    "X_impute = impute_independent_var.drop(['Var_11'], axis=1)\r\n",
    "y_impute = impute_independent_var['Var_11']"
   ],
   "outputs": [],
   "metadata": {}
  },
  {
   "cell_type": "code",
   "execution_count": 20,
   "source": [
    "from sklearn.model_selection import train_test_split\r\n",
    "\r\n",
    "train_X_impute, test_X_impute, train_y_impute, test_y_impute = train_test_split(X_impute, y_impute, random_state=122, stratify = y_impute)"
   ],
   "outputs": [],
   "metadata": {}
  },
  {
   "cell_type": "code",
   "execution_count": 21,
   "source": [
    "from sklearn.metrics import f1_score, accuracy_score\r\n",
    "from sklearn.model_selection import RepeatedStratifiedKFold\r\n",
    "from sklearn.model_selection import cross_val_score\r\n",
    "from numpy import mean"
   ],
   "outputs": [],
   "metadata": {}
  },
  {
   "cell_type": "code",
   "execution_count": 22,
   "source": [
    "from sklearn.ensemble import RandomForestRegressor\r\n",
    "\r\n",
    "var_11_model = RandomForestRegressor(n_estimators=10, random_state=12)"
   ],
   "outputs": [],
   "metadata": {}
  },
  {
   "cell_type": "code",
   "execution_count": 23,
   "source": [
    "# # define evaluation procedure\r\n",
    "# cv_impute = RepeatedStratifiedKFold(n_splits=10, n_repeats=3, random_state=1)\r\n",
    "# # evaluate model\r\n",
    "# scores_impute = cross_val_score(var_11_model, X_impute, y_impute, scoring='accuracy', cv=cv_impute, n_jobs=-1)\r\n",
    "# # summarize performance\r\n",
    "# print('Accuracy %.3f' % mean(scores_impute))"
   ],
   "outputs": [],
   "metadata": {}
  },
  {
   "cell_type": "code",
   "execution_count": 24,
   "source": [
    "var_11_model.fit(train_X_impute, train_y_impute)"
   ],
   "outputs": [
    {
     "output_type": "execute_result",
     "data": {
      "text/plain": [
       "RandomForestRegressor(n_estimators=10, random_state=12)"
      ]
     },
     "metadata": {},
     "execution_count": 24
    }
   ],
   "metadata": {}
  },
  {
   "cell_type": "code",
   "execution_count": 25,
   "source": [
    "impute_independent_var = pd.read_csv('v2_Inputs_for_Full_Predictions_3_cleaned.csv')"
   ],
   "outputs": [],
   "metadata": {}
  },
  {
   "cell_type": "code",
   "execution_count": 26,
   "source": [
    "X_impute = impute_independent_var.drop(['Var_11', 'Var_12'], axis=1)\r\n",
    "y_impute = impute_independent_var['Var_11']"
   ],
   "outputs": [],
   "metadata": {}
  },
  {
   "cell_type": "code",
   "execution_count": 34,
   "source": [
    "impute_independent_var['Var_11'] = var_11_model.predict(X_impute)"
   ],
   "outputs": [],
   "metadata": {}
  },
  {
   "cell_type": "code",
   "execution_count": 35,
   "source": [
    "impute_independent_var[impute_independent_var.Var_11.isnull()]"
   ],
   "outputs": [
    {
     "output_type": "execute_result",
     "data": {
      "text/plain": [
       "Empty DataFrame\n",
       "Columns: [Var_1, Var_2, Var_3, Var_4, Var_5_Class_1, Var_5_Class_2, Var_5_Class_3, Var_5_Class_4, Var_5_Class_5, Var_5_Class_6, Var_5_Class_7, Var_5_Class_8, Var_6_Class_1, Var_6_Class_2, Var_6_Class_3, Var_6_Class_4, Var_6_Class_5, Var_6_Class_6, Var_6_Class_7, Var_6_Class_8, Var_6_Class_9, Var_6_Class_10, Var_6_Class_11, Var_6_Class_12, Var_7, Var_8, Var_9, Var_10, Var_11, Var_12, Var_13, Val_11_predicte, Val_11]\n",
       "Index: []\n",
       "\n",
       "[0 rows x 33 columns]"
      ],
      "text/html": [
       "<div>\n",
       "<style scoped>\n",
       "    .dataframe tbody tr th:only-of-type {\n",
       "        vertical-align: middle;\n",
       "    }\n",
       "\n",
       "    .dataframe tbody tr th {\n",
       "        vertical-align: top;\n",
       "    }\n",
       "\n",
       "    .dataframe thead th {\n",
       "        text-align: right;\n",
       "    }\n",
       "</style>\n",
       "<table border=\"1\" class=\"dataframe\">\n",
       "  <thead>\n",
       "    <tr style=\"text-align: right;\">\n",
       "      <th></th>\n",
       "      <th>Var_1</th>\n",
       "      <th>Var_2</th>\n",
       "      <th>Var_3</th>\n",
       "      <th>Var_4</th>\n",
       "      <th>Var_5_Class_1</th>\n",
       "      <th>Var_5_Class_2</th>\n",
       "      <th>Var_5_Class_3</th>\n",
       "      <th>Var_5_Class_4</th>\n",
       "      <th>Var_5_Class_5</th>\n",
       "      <th>Var_5_Class_6</th>\n",
       "      <th>...</th>\n",
       "      <th>Var_6_Class_12</th>\n",
       "      <th>Var_7</th>\n",
       "      <th>Var_8</th>\n",
       "      <th>Var_9</th>\n",
       "      <th>Var_10</th>\n",
       "      <th>Var_11</th>\n",
       "      <th>Var_12</th>\n",
       "      <th>Var_13</th>\n",
       "      <th>Val_11_predicte</th>\n",
       "      <th>Val_11</th>\n",
       "    </tr>\n",
       "  </thead>\n",
       "  <tbody>\n",
       "  </tbody>\n",
       "</table>\n",
       "<p>0 rows × 33 columns</p>\n",
       "</div>"
      ]
     },
     "metadata": {},
     "execution_count": 35
    }
   ],
   "metadata": {}
  },
  {
   "cell_type": "code",
   "execution_count": 36,
   "source": [
    "import math"
   ],
   "outputs": [],
   "metadata": {}
  },
  {
   "cell_type": "code",
   "execution_count": 37,
   "source": [
    "impute_independent_var.Var_11 = impute_independent_var.Var_11.apply(lambda x: format(x, '.2f'))"
   ],
   "outputs": [],
   "metadata": {}
  },
  {
   "cell_type": "code",
   "execution_count": 41,
   "source": [
    "impute_independent_var.isna().sum()"
   ],
   "outputs": [
    {
     "output_type": "execute_result",
     "data": {
      "text/plain": [
       "Var_1                   0\n",
       "Var_2                   0\n",
       "Var_3                   0\n",
       "Var_4                   0\n",
       "Var_5_Class_1           0\n",
       "Var_5_Class_2           0\n",
       "Var_5_Class_3           0\n",
       "Var_5_Class_4           0\n",
       "Var_5_Class_5           0\n",
       "Var_5_Class_6           0\n",
       "Var_5_Class_7           0\n",
       "Var_5_Class_8           0\n",
       "Var_6_Class_1           0\n",
       "Var_6_Class_2           0\n",
       "Var_6_Class_3           0\n",
       "Var_6_Class_4           0\n",
       "Var_6_Class_5           0\n",
       "Var_6_Class_6           0\n",
       "Var_6_Class_7           0\n",
       "Var_6_Class_8           0\n",
       "Var_6_Class_9           0\n",
       "Var_6_Class_10          0\n",
       "Var_6_Class_11          0\n",
       "Var_6_Class_12          0\n",
       "Var_7                   0\n",
       "Var_8                   0\n",
       "Var_9                   0\n",
       "Var_10                  0\n",
       "Var_11                  0\n",
       "Var_12            2412957\n",
       "Var_13                  0\n",
       "dtype: int64"
      ]
     },
     "metadata": {},
     "execution_count": 41
    }
   ],
   "metadata": {}
  },
  {
   "cell_type": "code",
   "execution_count": 40,
   "source": [
    "impute_independent_var.drop(\"Val_11_predicte\", inplace=True, axis=1)"
   ],
   "outputs": [],
   "metadata": {}
  },
  {
   "cell_type": "code",
   "execution_count": 225,
   "source": [
    "impute_independent_var.shape, prediction_data_1.shape"
   ],
   "outputs": [
    {
     "output_type": "execute_result",
     "data": {
      "text/plain": [
       "((2489558, 31), (2489558, 31))"
      ]
     },
     "metadata": {},
     "execution_count": 225
    }
   ],
   "metadata": {}
  },
  {
   "cell_type": "code",
   "execution_count": 42,
   "source": [
    "impute_independent_var.to_csv(\"Var_11_imputed.csv\", index=False)"
   ],
   "outputs": [],
   "metadata": {}
  },
  {
   "cell_type": "markdown",
   "source": [
    "## Predict Val_12"
   ],
   "metadata": {}
  },
  {
   "cell_type": "code",
   "execution_count": 50,
   "source": [
    "impute_independent_var = pd.read_csv(\"Var_11_imputed_2.csv\")"
   ],
   "outputs": [],
   "metadata": {}
  },
  {
   "cell_type": "code",
   "execution_count": 51,
   "source": [
    "impute_independent_var.shape"
   ],
   "outputs": [
    {
     "output_type": "execute_result",
     "data": {
      "text/plain": [
       "(2489558, 31)"
      ]
     },
     "metadata": {},
     "execution_count": 51
    }
   ],
   "metadata": {}
  },
  {
   "cell_type": "code",
   "execution_count": 54,
   "source": [
    "data_skewness(impute_independent_var)"
   ],
   "outputs": [
    {
     "output_type": "stream",
     "name": "stdout",
     "text": [
      "Var_1 :   0.49872883873460444\n",
      "Var_2 :   0.3576557463036899\n",
      "Var_3 :   0.9441237516931893\n",
      "Var_4 :   -1.2845748252297855\n",
      "Var_7 :   3.942982610036619\n",
      "Var_8 :   0.3741561309053679\n",
      "Var_11 :   2.875985513437193\n",
      "Var_12 :   -0.11080973977119667\n",
      "Var_13 :   -0.13667133273249232\n"
     ]
    }
   ],
   "metadata": {}
  },
  {
   "cell_type": "code",
   "execution_count": 53,
   "source": [
    "# Removing skewness. Taking root for positive skewed data and power for negatively skewed data\r\n",
    "impute_independent_var[\"Var_1\"] = np.sqrt(impute_independent_var[\"Var_1\"])\r\n",
    "impute_independent_var[\"Var_2\"] = np.sqrt(impute_independent_var[\"Var_2\"])\r\n",
    "impute_independent_var[\"Var_3\"] = np.cbrt(impute_independent_var[\"Var_3\"])\r\n",
    "impute_independent_var[\"Var_7\"] = np.cbrt(impute_independent_var[\"Var_7\"])\r\n",
    "impute_independent_var[\"Var_8\"] = np.cbrt(impute_independent_var[\"Var_8\"])\r\n",
    "impute_independent_var[\"Var_11\"] = np.power(impute_independent_var[\"Var_11\"], 5)\r\n",
    "#prediction_data_1[\"Var_4\"] = np.power(prediction_data_1[\"Var_4\"], 6)"
   ],
   "outputs": [],
   "metadata": {}
  },
  {
   "cell_type": "code",
   "execution_count": 55,
   "source": [
    "impute_independent_var.isna().sum()"
   ],
   "outputs": [
    {
     "output_type": "execute_result",
     "data": {
      "text/plain": [
       "Var_1                   0\n",
       "Var_2                   0\n",
       "Var_3                   0\n",
       "Var_4                   0\n",
       "Var_5_Class_1           0\n",
       "Var_5_Class_2           0\n",
       "Var_5_Class_3           0\n",
       "Var_5_Class_4           0\n",
       "Var_5_Class_5           0\n",
       "Var_5_Class_6           0\n",
       "Var_5_Class_7           0\n",
       "Var_5_Class_8           0\n",
       "Var_6_Class_1           0\n",
       "Var_6_Class_2           0\n",
       "Var_6_Class_3           0\n",
       "Var_6_Class_4           0\n",
       "Var_6_Class_5           0\n",
       "Var_6_Class_6           0\n",
       "Var_6_Class_7           0\n",
       "Var_6_Class_8           0\n",
       "Var_6_Class_9           0\n",
       "Var_6_Class_10          0\n",
       "Var_6_Class_11          0\n",
       "Var_6_Class_12          0\n",
       "Var_7                   0\n",
       "Var_8                   0\n",
       "Var_9                   0\n",
       "Var_10                  0\n",
       "Var_11                  0\n",
       "Var_12            1502976\n",
       "Var_13                  0\n",
       "dtype: int64"
      ]
     },
     "metadata": {},
     "execution_count": 55
    }
   ],
   "metadata": {}
  },
  {
   "cell_type": "code",
   "execution_count": 56,
   "source": [
    "impute_independent_var.drop(impute_independent_var[pd.isna(impute_independent_var.Var_12)].index, inplace=True)"
   ],
   "outputs": [],
   "metadata": {}
  },
  {
   "cell_type": "code",
   "execution_count": 57,
   "source": [
    "# Segregating data in independent and dependent variables\r\n",
    "\r\n",
    "X_impute = impute_independent_var.drop(['Var_12', 'Var_11'], axis=1)\r\n",
    "y_impute = impute_independent_var['Var_12']"
   ],
   "outputs": [],
   "metadata": {}
  },
  {
   "cell_type": "code",
   "execution_count": 58,
   "source": [
    "from sklearn.model_selection import train_test_split\r\n",
    "\r\n",
    "train_X_impute, test_X_impute, train_y_impute, test_y_impute = train_test_split(X_impute, y_impute, random_state=122, stratify = y_impute)"
   ],
   "outputs": [],
   "metadata": {}
  },
  {
   "cell_type": "code",
   "execution_count": 59,
   "source": [
    "from sklearn.ensemble import RandomForestRegressor\r\n",
    "\r\n",
    "var_12_model = RandomForestRegressor(n_estimators=10, random_state=12)"
   ],
   "outputs": [],
   "metadata": {}
  },
  {
   "cell_type": "code",
   "execution_count": 60,
   "source": [
    "train_X_impute.isna().sum()"
   ],
   "outputs": [
    {
     "output_type": "execute_result",
     "data": {
      "text/plain": [
       "Var_1             0\n",
       "Var_2             0\n",
       "Var_3             0\n",
       "Var_4             0\n",
       "Var_5_Class_1     0\n",
       "Var_5_Class_2     0\n",
       "Var_5_Class_3     0\n",
       "Var_5_Class_4     0\n",
       "Var_5_Class_5     0\n",
       "Var_5_Class_6     0\n",
       "Var_5_Class_7     0\n",
       "Var_5_Class_8     0\n",
       "Var_6_Class_1     0\n",
       "Var_6_Class_2     0\n",
       "Var_6_Class_3     0\n",
       "Var_6_Class_4     0\n",
       "Var_6_Class_5     0\n",
       "Var_6_Class_6     0\n",
       "Var_6_Class_7     0\n",
       "Var_6_Class_8     0\n",
       "Var_6_Class_9     0\n",
       "Var_6_Class_10    0\n",
       "Var_6_Class_11    0\n",
       "Var_6_Class_12    0\n",
       "Var_7             0\n",
       "Var_8             0\n",
       "Var_9             0\n",
       "Var_10            0\n",
       "Var_13            0\n",
       "dtype: int64"
      ]
     },
     "metadata": {},
     "execution_count": 60
    }
   ],
   "metadata": {}
  },
  {
   "cell_type": "code",
   "execution_count": 61,
   "source": [
    "var_12_model.fit(train_X_impute, train_y_impute)"
   ],
   "outputs": [
    {
     "output_type": "execute_result",
     "data": {
      "text/plain": [
       "RandomForestRegressor(n_estimators=10, random_state=12)"
      ]
     },
     "metadata": {},
     "execution_count": 61
    }
   ],
   "metadata": {}
  },
  {
   "cell_type": "code",
   "execution_count": 62,
   "source": [
    "impute_independent_var = pd.read_csv('Var_11_imputed.csv')\r\n",
    "\r\n",
    "X_impute = impute_independent_var.drop(['Var_11', 'Var_12'], axis=1)\r\n",
    "y_impute = impute_independent_var['Var_12']"
   ],
   "outputs": [],
   "metadata": {}
  },
  {
   "cell_type": "code",
   "execution_count": 63,
   "source": [
    "impute_independent_var['Var_12'] = var_12_model.predict(X_impute)"
   ],
   "outputs": [],
   "metadata": {}
  },
  {
   "cell_type": "code",
   "execution_count": 64,
   "source": [
    "impute_independent_var[impute_independent_var.Var_12.isnull()]"
   ],
   "outputs": [
    {
     "output_type": "execute_result",
     "data": {
      "text/plain": [
       "Empty DataFrame\n",
       "Columns: [Var_1, Var_2, Var_3, Var_4, Var_5_Class_1, Var_5_Class_2, Var_5_Class_3, Var_5_Class_4, Var_5_Class_5, Var_5_Class_6, Var_5_Class_7, Var_5_Class_8, Var_6_Class_1, Var_6_Class_2, Var_6_Class_3, Var_6_Class_4, Var_6_Class_5, Var_6_Class_6, Var_6_Class_7, Var_6_Class_8, Var_6_Class_9, Var_6_Class_10, Var_6_Class_11, Var_6_Class_12, Var_7, Var_8, Var_9, Var_10, Var_11, Var_12, Var_13]\n",
       "Index: []\n",
       "\n",
       "[0 rows x 31 columns]"
      ],
      "text/html": [
       "<div>\n",
       "<style scoped>\n",
       "    .dataframe tbody tr th:only-of-type {\n",
       "        vertical-align: middle;\n",
       "    }\n",
       "\n",
       "    .dataframe tbody tr th {\n",
       "        vertical-align: top;\n",
       "    }\n",
       "\n",
       "    .dataframe thead th {\n",
       "        text-align: right;\n",
       "    }\n",
       "</style>\n",
       "<table border=\"1\" class=\"dataframe\">\n",
       "  <thead>\n",
       "    <tr style=\"text-align: right;\">\n",
       "      <th></th>\n",
       "      <th>Var_1</th>\n",
       "      <th>Var_2</th>\n",
       "      <th>Var_3</th>\n",
       "      <th>Var_4</th>\n",
       "      <th>Var_5_Class_1</th>\n",
       "      <th>Var_5_Class_2</th>\n",
       "      <th>Var_5_Class_3</th>\n",
       "      <th>Var_5_Class_4</th>\n",
       "      <th>Var_5_Class_5</th>\n",
       "      <th>Var_5_Class_6</th>\n",
       "      <th>...</th>\n",
       "      <th>Var_6_Class_10</th>\n",
       "      <th>Var_6_Class_11</th>\n",
       "      <th>Var_6_Class_12</th>\n",
       "      <th>Var_7</th>\n",
       "      <th>Var_8</th>\n",
       "      <th>Var_9</th>\n",
       "      <th>Var_10</th>\n",
       "      <th>Var_11</th>\n",
       "      <th>Var_12</th>\n",
       "      <th>Var_13</th>\n",
       "    </tr>\n",
       "  </thead>\n",
       "  <tbody>\n",
       "  </tbody>\n",
       "</table>\n",
       "<p>0 rows × 31 columns</p>\n",
       "</div>"
      ]
     },
     "metadata": {},
     "execution_count": 64
    }
   ],
   "metadata": {}
  },
  {
   "cell_type": "code",
   "execution_count": 65,
   "source": [
    "impute_independent_var.Var_12 = impute_independent_var.Var_12.apply(lambda x: format(x, '.2f'))"
   ],
   "outputs": [],
   "metadata": {}
  },
  {
   "cell_type": "code",
   "execution_count": 66,
   "source": [
    "impute_independent_var.Var_12.isna().sum()"
   ],
   "outputs": [
    {
     "output_type": "execute_result",
     "data": {
      "text/plain": [
       "0"
      ]
     },
     "metadata": {},
     "execution_count": 66
    }
   ],
   "metadata": {}
  },
  {
   "cell_type": "code",
   "execution_count": 243,
   "source": [
    "#impute_independent_var.Var_12.fillna(impute_independent_var.Val_12_predicte, inplace=True)"
   ],
   "outputs": [],
   "metadata": {}
  },
  {
   "cell_type": "code",
   "execution_count": null,
   "source": [
    "#impute_independent_var[impute_independent_var.Var_12.isna()]['Var_12'] = impute_independent_var[impute_independent_var.Var_12.isna()]['Var_12'].replace(impute_independent_var.Var_12, impute_independent_var.Val_12_predicte) "
   ],
   "outputs": [],
   "metadata": {}
  },
  {
   "cell_type": "code",
   "execution_count": null,
   "source": [
    "# for i in impute_independent_var.Var_12:\r\n",
    "#     if(math.isnan(i)):\r\n",
    "#         impute_independent_var.Var_12 = impute_independent_var.Val_12_predicte"
   ],
   "outputs": [],
   "metadata": {}
  },
  {
   "cell_type": "code",
   "execution_count": 244,
   "source": [
    "#impute_independent_var.drop(\"Val_12_predicte\", inplace=True, axis=1)"
   ],
   "outputs": [],
   "metadata": {}
  },
  {
   "cell_type": "code",
   "execution_count": 67,
   "source": [
    "impute_independent_var.isna().sum()"
   ],
   "outputs": [
    {
     "output_type": "execute_result",
     "data": {
      "text/plain": [
       "Var_1             0\n",
       "Var_2             0\n",
       "Var_3             0\n",
       "Var_4             0\n",
       "Var_5_Class_1     0\n",
       "Var_5_Class_2     0\n",
       "Var_5_Class_3     0\n",
       "Var_5_Class_4     0\n",
       "Var_5_Class_5     0\n",
       "Var_5_Class_6     0\n",
       "Var_5_Class_7     0\n",
       "Var_5_Class_8     0\n",
       "Var_6_Class_1     0\n",
       "Var_6_Class_2     0\n",
       "Var_6_Class_3     0\n",
       "Var_6_Class_4     0\n",
       "Var_6_Class_5     0\n",
       "Var_6_Class_6     0\n",
       "Var_6_Class_7     0\n",
       "Var_6_Class_8     0\n",
       "Var_6_Class_9     0\n",
       "Var_6_Class_10    0\n",
       "Var_6_Class_11    0\n",
       "Var_6_Class_12    0\n",
       "Var_7             0\n",
       "Var_8             0\n",
       "Var_9             0\n",
       "Var_10            0\n",
       "Var_11            0\n",
       "Var_12            0\n",
       "Var_13            0\n",
       "dtype: int64"
      ]
     },
     "metadata": {},
     "execution_count": 67
    }
   ],
   "metadata": {}
  },
  {
   "cell_type": "code",
   "execution_count": 68,
   "source": [
    "impute_independent_var.to_csv(\"v2_Inputs_for_Full_Predictions_3_imputed.csv\", index=False)"
   ],
   "outputs": [],
   "metadata": {}
  },
  {
   "cell_type": "code",
   "execution_count": null,
   "source": [],
   "outputs": [],
   "metadata": {}
  }
 ],
 "metadata": {
  "orig_nbformat": 4,
  "language_info": {
   "name": "python",
   "version": "3.8.2",
   "mimetype": "text/x-python",
   "codemirror_mode": {
    "name": "ipython",
    "version": 3
   },
   "pygments_lexer": "ipython3",
   "nbconvert_exporter": "python",
   "file_extension": ".py"
  },
  "kernelspec": {
   "name": "python3",
   "display_name": "Python 3.8.2 64-bit"
  },
  "interpreter": {
   "hash": "a9ed818579b1ba32d90b6b7b1ccc8e0ff75013e2740df16cc93d983c2f1c495e"
  }
 },
 "nbformat": 4,
 "nbformat_minor": 2
}